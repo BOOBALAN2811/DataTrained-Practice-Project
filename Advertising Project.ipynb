{
 "cells": [
  {
   "cell_type": "markdown",
   "metadata": {},
   "source": [
    "# Data Description"
   ]
  },
  {
   "cell_type": "markdown",
   "metadata": {},
   "source": [
    "When a company enters a market, the distribution strategy and channel it uses are keys to its success in the market, as well as market know-how and customer knowledge and understanding. Because an effective distribution strategy under efficient supply-chain management opens doors for attaining competitive advantage and strong brand equity in the market, it is a component of the marketing mix that cannot be ignored . \n",
    "\n",
    "The distribution strategy and the channel design have to be right the first time. The case study of Sales channel includes the detailed study of TV, radio and newspaper channel. The company has to select proper sales channel to predict the right sales channel to generate good revenue."
   ]
  },
  {
   "cell_type": "markdown",
   "metadata": {},
   "source": [
    "# Import Required Library"
   ]
  },
  {
   "cell_type": "code",
   "execution_count": 100,
   "metadata": {},
   "outputs": [],
   "source": [
    "import numpy as np\n",
    "import pandas as pd\n",
    "import matplotlib.pyplot as plt\n",
    "import seaborn as sns\n",
    "import sklearn\n",
    "from sklearn.linear_model import LinearRegression\n",
    "from sklearn.metrics import confusion_matrix,classification_report\n",
    "from sklearn.model_selection import train_test_split\n",
    "from scipy.stats import zscore\n",
    "import warnings\n",
    "warnings.filterwarnings('ignore')"
   ]
  },
  {
   "cell_type": "code",
   "execution_count": 101,
   "metadata": {},
   "outputs": [
    {
     "data": {
      "text/html": [
       "<div>\n",
       "<style scoped>\n",
       "    .dataframe tbody tr th:only-of-type {\n",
       "        vertical-align: middle;\n",
       "    }\n",
       "\n",
       "    .dataframe tbody tr th {\n",
       "        vertical-align: top;\n",
       "    }\n",
       "\n",
       "    .dataframe thead th {\n",
       "        text-align: right;\n",
       "    }\n",
       "</style>\n",
       "<table border=\"1\" class=\"dataframe\">\n",
       "  <thead>\n",
       "    <tr style=\"text-align: right;\">\n",
       "      <th></th>\n",
       "      <th>Unnamed: 0</th>\n",
       "      <th>TV</th>\n",
       "      <th>radio</th>\n",
       "      <th>newspaper</th>\n",
       "      <th>sales</th>\n",
       "    </tr>\n",
       "  </thead>\n",
       "  <tbody>\n",
       "    <tr>\n",
       "      <th>0</th>\n",
       "      <td>1</td>\n",
       "      <td>230.1</td>\n",
       "      <td>37.8</td>\n",
       "      <td>69.2</td>\n",
       "      <td>22.1</td>\n",
       "    </tr>\n",
       "    <tr>\n",
       "      <th>1</th>\n",
       "      <td>2</td>\n",
       "      <td>44.5</td>\n",
       "      <td>39.3</td>\n",
       "      <td>45.1</td>\n",
       "      <td>10.4</td>\n",
       "    </tr>\n",
       "    <tr>\n",
       "      <th>2</th>\n",
       "      <td>3</td>\n",
       "      <td>17.2</td>\n",
       "      <td>45.9</td>\n",
       "      <td>69.3</td>\n",
       "      <td>9.3</td>\n",
       "    </tr>\n",
       "    <tr>\n",
       "      <th>3</th>\n",
       "      <td>4</td>\n",
       "      <td>151.5</td>\n",
       "      <td>41.3</td>\n",
       "      <td>58.5</td>\n",
       "      <td>18.5</td>\n",
       "    </tr>\n",
       "    <tr>\n",
       "      <th>4</th>\n",
       "      <td>5</td>\n",
       "      <td>180.8</td>\n",
       "      <td>10.8</td>\n",
       "      <td>58.4</td>\n",
       "      <td>12.9</td>\n",
       "    </tr>\n",
       "  </tbody>\n",
       "</table>\n",
       "</div>"
      ],
      "text/plain": [
       "   Unnamed: 0     TV  radio  newspaper  sales\n",
       "0           1  230.1   37.8       69.2   22.1\n",
       "1           2   44.5   39.3       45.1   10.4\n",
       "2           3   17.2   45.9       69.3    9.3\n",
       "3           4  151.5   41.3       58.5   18.5\n",
       "4           5  180.8   10.8       58.4   12.9"
      ]
     },
     "execution_count": 101,
     "metadata": {},
     "output_type": "execute_result"
    }
   ],
   "source": [
    "#importing dataset from github\n",
    "\n",
    "df=pd.read_csv('https://github.com/dsrscientist/DSData/raw/master/Advertising.csv')\n",
    "df.head()"
   ]
  },
  {
   "cell_type": "markdown",
   "metadata": {},
   "source": [
    "Through the link - we have pulled the dataset from github. Also, we have a unnamed column in the dataset - So we will change the column in next set."
   ]
  },
  {
   "cell_type": "code",
   "execution_count": 102,
   "metadata": {},
   "outputs": [
    {
     "data": {
      "text/html": [
       "<div>\n",
       "<style scoped>\n",
       "    .dataframe tbody tr th:only-of-type {\n",
       "        vertical-align: middle;\n",
       "    }\n",
       "\n",
       "    .dataframe tbody tr th {\n",
       "        vertical-align: top;\n",
       "    }\n",
       "\n",
       "    .dataframe thead th {\n",
       "        text-align: right;\n",
       "    }\n",
       "</style>\n",
       "<table border=\"1\" class=\"dataframe\">\n",
       "  <thead>\n",
       "    <tr style=\"text-align: right;\">\n",
       "      <th></th>\n",
       "      <th>Serial No</th>\n",
       "      <th>TV</th>\n",
       "      <th>radio</th>\n",
       "      <th>newspaper</th>\n",
       "      <th>sales</th>\n",
       "    </tr>\n",
       "  </thead>\n",
       "  <tbody>\n",
       "    <tr>\n",
       "      <th>0</th>\n",
       "      <td>1</td>\n",
       "      <td>230.1</td>\n",
       "      <td>37.8</td>\n",
       "      <td>69.2</td>\n",
       "      <td>22.1</td>\n",
       "    </tr>\n",
       "    <tr>\n",
       "      <th>1</th>\n",
       "      <td>2</td>\n",
       "      <td>44.5</td>\n",
       "      <td>39.3</td>\n",
       "      <td>45.1</td>\n",
       "      <td>10.4</td>\n",
       "    </tr>\n",
       "    <tr>\n",
       "      <th>2</th>\n",
       "      <td>3</td>\n",
       "      <td>17.2</td>\n",
       "      <td>45.9</td>\n",
       "      <td>69.3</td>\n",
       "      <td>9.3</td>\n",
       "    </tr>\n",
       "    <tr>\n",
       "      <th>3</th>\n",
       "      <td>4</td>\n",
       "      <td>151.5</td>\n",
       "      <td>41.3</td>\n",
       "      <td>58.5</td>\n",
       "      <td>18.5</td>\n",
       "    </tr>\n",
       "    <tr>\n",
       "      <th>4</th>\n",
       "      <td>5</td>\n",
       "      <td>180.8</td>\n",
       "      <td>10.8</td>\n",
       "      <td>58.4</td>\n",
       "      <td>12.9</td>\n",
       "    </tr>\n",
       "  </tbody>\n",
       "</table>\n",
       "</div>"
      ],
      "text/plain": [
       "   Serial No     TV  radio  newspaper  sales\n",
       "0          1  230.1   37.8       69.2   22.1\n",
       "1          2   44.5   39.3       45.1   10.4\n",
       "2          3   17.2   45.9       69.3    9.3\n",
       "3          4  151.5   41.3       58.5   18.5\n",
       "4          5  180.8   10.8       58.4   12.9"
      ]
     },
     "execution_count": 102,
     "metadata": {},
     "output_type": "execute_result"
    }
   ],
   "source": [
    "df=df.rename(columns={\"Unnamed: 0\": \"Serial No\"}) \n",
    "df.head()"
   ]
  },
  {
   "cell_type": "markdown",
   "metadata": {},
   "source": [
    "We have renamed the column in the dataset"
   ]
  },
  {
   "cell_type": "code",
   "execution_count": 103,
   "metadata": {},
   "outputs": [
    {
     "data": {
      "text/plain": [
       "Serial No      int64\n",
       "TV           float64\n",
       "radio        float64\n",
       "newspaper    float64\n",
       "sales        float64\n",
       "dtype: object"
      ]
     },
     "execution_count": 103,
     "metadata": {},
     "output_type": "execute_result"
    }
   ],
   "source": [
    "df.dtypes"
   ]
  },
  {
   "cell_type": "markdown",
   "metadata": {},
   "source": [
    "We have a five columns in numeric value."
   ]
  },
  {
   "cell_type": "code",
   "execution_count": 104,
   "metadata": {},
   "outputs": [
    {
     "data": {
      "text/plain": [
       "(200, 5)"
      ]
     },
     "execution_count": 104,
     "metadata": {},
     "output_type": "execute_result"
    }
   ],
   "source": [
    "df.shape"
   ]
  },
  {
   "cell_type": "markdown",
   "metadata": {},
   "source": [
    "We have a 200 rows and 5 column in the dataset."
   ]
  },
  {
   "cell_type": "code",
   "execution_count": 105,
   "metadata": {},
   "outputs": [
    {
     "data": {
      "text/plain": [
       "Serial No    0\n",
       "TV           0\n",
       "radio        0\n",
       "newspaper    0\n",
       "sales        0\n",
       "dtype: int64"
      ]
     },
     "execution_count": 105,
     "metadata": {},
     "output_type": "execute_result"
    }
   ],
   "source": [
    "df.isnull().sum()"
   ]
  },
  {
   "cell_type": "markdown",
   "metadata": {},
   "source": [
    "Based on the above info - We have zero null value in the dataset. However, we will visualize and see the output through heatmap in the next step"
   ]
  },
  {
   "cell_type": "code",
   "execution_count": 106,
   "metadata": {},
   "outputs": [
    {
     "data": {
      "image/png": "[encoded data removed]",
      "text/plain": [
       "<Figure size 432x288 with 2 Axes>"
      ]
     },
     "metadata": {
      "needs_background": "light"
     },
     "output_type": "display_data"
    }
   ],
   "source": [
    "sns.heatmap(df.isnull())\n",
    "plt.title(\"Null Value\")\n",
    "plt.show()"
   ]
  },
  {
   "cell_type": "markdown",
   "metadata": {},
   "source": [
    "# Describe Dataset"
   ]
  },
  {
   "cell_type": "code",
   "execution_count": 107,
   "metadata": {},
   "outputs": [
    {
     "data": {
      "text/html": [
       "<div>\n",
       "<style scoped>\n",
       "    .dataframe tbody tr th:only-of-type {\n",
       "        vertical-align: middle;\n",
       "    }\n",
       "\n",
       "    .dataframe tbody tr th {\n",
       "        vertical-align: top;\n",
       "    }\n",
       "\n",
       "    .dataframe thead th {\n",
       "        text-align: right;\n",
       "    }\n",
       "</style>\n",
       "<table border=\"1\" class=\"dataframe\">\n",
       "  <thead>\n",
       "    <tr style=\"text-align: right;\">\n",
       "      <th></th>\n",
       "      <th>Serial No</th>\n",
       "      <th>TV</th>\n",
       "      <th>radio</th>\n",
       "      <th>newspaper</th>\n",
       "      <th>sales</th>\n",
       "    </tr>\n",
       "  </thead>\n",
       "  <tbody>\n",
       "    <tr>\n",
       "      <th>count</th>\n",
       "      <td>200.000000</td>\n",
       "      <td>200.000000</td>\n",
       "      <td>200.000000</td>\n",
       "      <td>200.000000</td>\n",
       "      <td>200.000000</td>\n",
       "    </tr>\n",
       "    <tr>\n",
       "      <th>mean</th>\n",
       "      <td>100.500000</td>\n",
       "      <td>147.042500</td>\n",
       "      <td>23.264000</td>\n",
       "      <td>30.554000</td>\n",
       "      <td>14.022500</td>\n",
       "    </tr>\n",
       "    <tr>\n",
       "      <th>std</th>\n",
       "      <td>57.879185</td>\n",
       "      <td>85.854236</td>\n",
       "      <td>14.846809</td>\n",
       "      <td>21.778621</td>\n",
       "      <td>5.217457</td>\n",
       "    </tr>\n",
       "    <tr>\n",
       "      <th>min</th>\n",
       "      <td>1.000000</td>\n",
       "      <td>0.700000</td>\n",
       "      <td>0.000000</td>\n",
       "      <td>0.300000</td>\n",
       "      <td>1.600000</td>\n",
       "    </tr>\n",
       "    <tr>\n",
       "      <th>25%</th>\n",
       "      <td>50.750000</td>\n",
       "      <td>74.375000</td>\n",
       "      <td>9.975000</td>\n",
       "      <td>12.750000</td>\n",
       "      <td>10.375000</td>\n",
       "    </tr>\n",
       "    <tr>\n",
       "      <th>50%</th>\n",
       "      <td>100.500000</td>\n",
       "      <td>149.750000</td>\n",
       "      <td>22.900000</td>\n",
       "      <td>25.750000</td>\n",
       "      <td>12.900000</td>\n",
       "    </tr>\n",
       "    <tr>\n",
       "      <th>75%</th>\n",
       "      <td>150.250000</td>\n",
       "      <td>218.825000</td>\n",
       "      <td>36.525000</td>\n",
       "      <td>45.100000</td>\n",
       "      <td>17.400000</td>\n",
       "    </tr>\n",
       "    <tr>\n",
       "      <th>max</th>\n",
       "      <td>200.000000</td>\n",
       "      <td>296.400000</td>\n",
       "      <td>49.600000</td>\n",
       "      <td>114.000000</td>\n",
       "      <td>27.000000</td>\n",
       "    </tr>\n",
       "  </tbody>\n",
       "</table>\n",
       "</div>"
      ],
      "text/plain": [
       "        Serial No          TV       radio   newspaper       sales\n",
       "count  200.000000  200.000000  200.000000  200.000000  200.000000\n",
       "mean   100.500000  147.042500   23.264000   30.554000   14.022500\n",
       "std     57.879185   85.854236   14.846809   21.778621    5.217457\n",
       "min      1.000000    0.700000    0.000000    0.300000    1.600000\n",
       "25%     50.750000   74.375000    9.975000   12.750000   10.375000\n",
       "50%    100.500000  149.750000   22.900000   25.750000   12.900000\n",
       "75%    150.250000  218.825000   36.525000   45.100000   17.400000\n",
       "max    200.000000  296.400000   49.600000  114.000000   27.000000"
      ]
     },
     "execution_count": 107,
     "metadata": {},
     "output_type": "execute_result"
    }
   ],
   "source": [
    "#Statistical Summary\n",
    "df.describe()"
   ]
  },
  {
   "cell_type": "markdown",
   "metadata": {},
   "source": [
    "We have a outlier and skewness. So we will check in further step"
   ]
  },
  {
   "cell_type": "markdown",
   "metadata": {},
   "source": [
    "# Correlation"
   ]
  },
  {
   "cell_type": "code",
   "execution_count": 108,
   "metadata": {},
   "outputs": [
    {
     "data": {
      "text/html": [
       "<div>\n",
       "<style scoped>\n",
       "    .dataframe tbody tr th:only-of-type {\n",
       "        vertical-align: middle;\n",
       "    }\n",
       "\n",
       "    .dataframe tbody tr th {\n",
       "        vertical-align: top;\n",
       "    }\n",
       "\n",
       "    .dataframe thead th {\n",
       "        text-align: right;\n",
       "    }\n",
       "</style>\n",
       "<table border=\"1\" class=\"dataframe\">\n",
       "  <thead>\n",
       "    <tr style=\"text-align: right;\">\n",
       "      <th></th>\n",
       "      <th>Serial No</th>\n",
       "      <th>TV</th>\n",
       "      <th>radio</th>\n",
       "      <th>newspaper</th>\n",
       "      <th>sales</th>\n",
       "    </tr>\n",
       "  </thead>\n",
       "  <tbody>\n",
       "    <tr>\n",
       "      <th>Serial No</th>\n",
       "      <td>1.000000</td>\n",
       "      <td>0.017715</td>\n",
       "      <td>-0.110680</td>\n",
       "      <td>-0.154944</td>\n",
       "      <td>-0.051616</td>\n",
       "    </tr>\n",
       "    <tr>\n",
       "      <th>TV</th>\n",
       "      <td>0.017715</td>\n",
       "      <td>1.000000</td>\n",
       "      <td>0.054809</td>\n",
       "      <td>0.056648</td>\n",
       "      <td>0.782224</td>\n",
       "    </tr>\n",
       "    <tr>\n",
       "      <th>radio</th>\n",
       "      <td>-0.110680</td>\n",
       "      <td>0.054809</td>\n",
       "      <td>1.000000</td>\n",
       "      <td>0.354104</td>\n",
       "      <td>0.576223</td>\n",
       "    </tr>\n",
       "    <tr>\n",
       "      <th>newspaper</th>\n",
       "      <td>-0.154944</td>\n",
       "      <td>0.056648</td>\n",
       "      <td>0.354104</td>\n",
       "      <td>1.000000</td>\n",
       "      <td>0.228299</td>\n",
       "    </tr>\n",
       "    <tr>\n",
       "      <th>sales</th>\n",
       "      <td>-0.051616</td>\n",
       "      <td>0.782224</td>\n",
       "      <td>0.576223</td>\n",
       "      <td>0.228299</td>\n",
       "      <td>1.000000</td>\n",
       "    </tr>\n",
       "  </tbody>\n",
       "</table>\n",
       "</div>"
      ],
      "text/plain": [
       "           Serial No        TV     radio  newspaper     sales\n",
       "Serial No   1.000000  0.017715 -0.110680  -0.154944 -0.051616\n",
       "TV          0.017715  1.000000  0.054809   0.056648  0.782224\n",
       "radio      -0.110680  0.054809  1.000000   0.354104  0.576223\n",
       "newspaper  -0.154944  0.056648  0.354104   1.000000  0.228299\n",
       "sales      -0.051616  0.782224  0.576223   0.228299  1.000000"
      ]
     },
     "execution_count": 108,
     "metadata": {},
     "output_type": "execute_result"
    }
   ],
   "source": [
    "df.corr()"
   ]
  },
  {
   "cell_type": "markdown",
   "metadata": {},
   "source": [
    "Correlation using heatmap"
   ]
  },
  {
   "cell_type": "code",
   "execution_count": 109,
   "metadata": {},
   "outputs": [
    {
     "data": {
      "image/png": "[encoded data removed]",
      "text/plain": [
       "<Figure size 360x144 with 2 Axes>"
      ]
     },
     "metadata": {
      "needs_background": "light"
     },
     "output_type": "display_data"
    }
   ],
   "source": [
    "corr_mat=df.corr()\n",
    "\n",
    "plt.figure(figsize=[5,2])\n",
    "sns.heatmap(corr_mat,annot=True)\n",
    "plt.title(\"Correlation Matrix\")\n",
    "plt.show()"
   ]
  },
  {
   "cell_type": "markdown",
   "metadata": {},
   "source": [
    "# Outcome of Correlation"
   ]
  },
  {
   "cell_type": "markdown",
   "metadata": {},
   "source": [
    "We can see the positive and negative correlation with the target column. Here, we can leave the \"serial No\" column only because that is not a data. That is just a serial count(no of rows).\n",
    "\n",
    "Also, we have a highly positive sign with TV(78%) and second with Radio(58%) and last one have a positive with newspaper(23%)."
   ]
  },
  {
   "cell_type": "markdown",
   "metadata": {},
   "source": [
    "# Outlier Checking "
   ]
  },
  {
   "cell_type": "code",
   "execution_count": 110,
   "metadata": {},
   "outputs": [
    {
     "data": {
      "image/png": "[encoded data removed]",
      "text/plain": [
       "<Figure size 864x1728 with 5 Axes>"
      ]
     },
     "metadata": {
      "needs_background": "light"
     },
     "output_type": "display_data"
    }
   ],
   "source": [
    "collist=df.columns.values\n",
    "ncol=12\n",
    "nrow=6\n",
    "plt.figure(figsize=(ncol,2*ncol))\n",
    "for i in range (0,len(collist)):\n",
    "    plt.subplot(nrow,ncol,i+1)\n",
    "    sns.boxplot(df[collist[i]],color='green',orient='v')\n",
    "    plt.tight_layout()"
   ]
  },
  {
   "cell_type": "markdown",
   "metadata": {},
   "source": [
    "In the above - we have an outlier in one columns(Newspaper) which is near with whisker but we will rectify in further step"
   ]
  },
  {
   "cell_type": "markdown",
   "metadata": {},
   "source": [
    "# Checking Skewness"
   ]
  },
  {
   "cell_type": "code",
   "execution_count": 111,
   "metadata": {},
   "outputs": [
    {
     "data": {
      "text/plain": [
       "Serial No    0.000000\n",
       "TV          -0.069853\n",
       "radio        0.094175\n",
       "newspaper    0.894720\n",
       "sales        0.407571\n",
       "dtype: float64"
      ]
     },
     "execution_count": 111,
     "metadata": {},
     "output_type": "execute_result"
    }
   ],
   "source": [
    "df.skew()"
   ]
  },
  {
   "cell_type": "markdown",
   "metadata": {},
   "source": [
    "From the above info - we can see the skewness in the dataset only on newspaper.\n",
    "\n",
    "Also, We can consider the -/+.5 is standard"
   ]
  },
  {
   "cell_type": "markdown",
   "metadata": {},
   "source": [
    "# Normal Distribution Curve"
   ]
  },
  {
   "cell_type": "code",
   "execution_count": 112,
   "metadata": {},
   "outputs": [
    {
     "data": {
      "image/png": "[encoded data removed]",
      "text/plain": [
       "<Figure size 432x288 with 1 Axes>"
      ]
     },
     "metadata": {
      "needs_background": "light"
     },
     "output_type": "display_data"
    }
   ],
   "source": [
    "A=sns.distplot(df[\"TV\"])"
   ]
  },
  {
   "cell_type": "code",
   "execution_count": 113,
   "metadata": {},
   "outputs": [
    {
     "data": {
      "image/png": "[encoded data removed]",
      "text/plain": [
       "<Figure size 432x288 with 1 Axes>"
      ]
     },
     "metadata": {
      "needs_background": "light"
     },
     "output_type": "display_data"
    }
   ],
   "source": [
    "B=sns.distplot(df[\"radio\"])"
   ]
  },
  {
   "cell_type": "code",
   "execution_count": 114,
   "metadata": {},
   "outputs": [
    {
     "data": {
      "image/png": "[encoded data removed]",
      "text/plain": [
       "<Figure size 432x288 with 1 Axes>"
      ]
     },
     "metadata": {
      "needs_background": "light"
     },
     "output_type": "display_data"
    }
   ],
   "source": [
    "C=sns.distplot(df[\"newspaper\"])"
   ]
  },
  {
   "cell_type": "markdown",
   "metadata": {},
   "source": [
    "The data is normalized because the box build is out of normalized curve. However, TV & Radio is near to curve but the Newspaper have a little more distanace from the curve.\n",
    "\n",
    "Hence, we will consider the newspaper column having a skewness."
   ]
  },
  {
   "cell_type": "markdown",
   "metadata": {},
   "source": [
    "# Data Cleaning"
   ]
  },
  {
   "cell_type": "markdown",
   "metadata": {},
   "source": [
    "# Removing Outlier"
   ]
  },
  {
   "cell_type": "code",
   "execution_count": 115,
   "metadata": {},
   "outputs": [
    {
     "data": {
      "text/plain": [
       "(200, 5)"
      ]
     },
     "execution_count": 115,
     "metadata": {},
     "output_type": "execute_result"
    }
   ],
   "source": [
    "from scipy.stats import zscore\n",
    "z=np.abs(zscore(df))\n",
    "z.shape"
   ]
  },
  {
   "cell_type": "code",
   "execution_count": 116,
   "metadata": {},
   "outputs": [
    {
     "name": "stdout",
     "output_type": "stream",
     "text": [
      "(array([ 16, 101], dtype=int64), array([3, 3], dtype=int64))\n"
     ]
    }
   ],
   "source": [
    "threshold=3\n",
    "print(np.where(z>3))"
   ]
  },
  {
   "cell_type": "code",
   "execution_count": 117,
   "metadata": {},
   "outputs": [
    {
     "name": "stdout",
     "output_type": "stream",
     "text": [
      "(200, 5)\n",
      "(198, 5)\n"
     ]
    }
   ],
   "source": [
    "df_new=df[(z<3).all(axis=1)]\n",
    "print(df.shape)\n",
    "print(df_new.shape)"
   ]
  },
  {
   "cell_type": "code",
   "execution_count": 120,
   "metadata": {},
   "outputs": [
    {
     "name": "stdout",
     "output_type": "stream",
     "text": [
      "1.0\n"
     ]
    }
   ],
   "source": [
    "Loss_percentage=(200-198)/200*100\n",
    "print(Loss_percentage)"
   ]
  },
  {
   "cell_type": "code",
   "execution_count": 130,
   "metadata": {},
   "outputs": [],
   "source": [
    "X=df.drop(\"sales\",axis=1)\n",
    "Y=df[\"sales\"]"
   ]
  },
  {
   "cell_type": "markdown",
   "metadata": {},
   "source": [
    "# Data Transform for Remove Skewness"
   ]
  },
  {
   "cell_type": "code",
   "execution_count": 131,
   "metadata": {},
   "outputs": [
    {
     "data": {
      "text/plain": [
       "array([[-2.07937596,  0.94867429,  0.96224689,  1.51433531],\n",
       "       [-2.03292263, -1.19131426,  1.0401788 ,  0.78768252],\n",
       "       [-1.990711  , -1.6477566 ,  1.37070964,  1.51699753],\n",
       "       [-1.95139683,  0.14102023,  1.14238689,  1.21465643],\n",
       "       [-1.91424742,  0.45271493, -0.74865064,  1.21170398],\n",
       "       [-1.87880665, -1.82382233,  1.51501853,  1.66502354],\n",
       "       [-1.8447658 , -1.00249116,  0.69372704, -0.1077535 ],\n",
       "       [-1.81190337, -0.210275  , -0.10158544, -0.84409341],\n",
       "       [-1.7800535 , -1.82609501, -1.63345378, -2.13259669],\n",
       "       [-1.74908785,  0.64764492, -1.56676988, -0.22900395],\n",
       "       [-1.71890445, -0.88377378, -1.20298758, -0.07226156],\n",
       "       [-1.68942058,  0.79708355,  0.18072579, -1.60261898],\n",
       "       [-1.66056789, -1.52641627,  0.81900563,  1.42512925],\n",
       "       [-1.63228912, -0.48036844, -1.02813642, -1.22982506],\n",
       "       [-1.60453563,  0.69106577,  0.6992403 ,  0.81860579],\n",
       "       [-1.57726567,  0.60295713,  1.45770359,  1.04432344],\n",
       "       [-1.55044308, -0.86079972,  0.89906999,  2.52943514],\n",
       "       [-1.52403621,  1.4355201 ,  1.05563142,  1.13383286],\n",
       "       [-1.49801724, -0.84199328, -0.04209908, -0.39356015],\n",
       "       [-1.47236146,  0.09508551,  0.17453165, -0.34671544],\n",
       "       [-1.44704684,  0.8337607 ,  0.40367061,  1.05996548],\n",
       "       [-1.42205365,  1.01958629, -1.27567304, -0.1077535 ],\n",
       "       [-1.39736406, -1.72701642, -0.35739289,  0.93875739],\n",
       "       [-1.37296197,  0.93109798, -0.28631129,  0.02589311],\n",
       "       [-1.34883272, -0.93569772, -0.60431061, -0.39356015],\n",
       "       [-1.32496292,  1.26290943, -1.4550585 , -0.3237259 ],\n",
       "       [-1.30134033,  0.04659013,  0.49664406, -0.76867281],\n",
       "       [-1.27795368,  1.0456669 , -0.30040383, -0.1386789 ],\n",
       "       [-1.25479261,  1.12918152,  0.3682981 , -0.1386789 ],\n",
       "       [-1.23184753, -0.82328646, -0.35021379,  0.63452018],\n",
       "       [-1.20910953,  1.54129731,  0.43876195,  0.72114861],\n",
       "       [-1.18657038, -0.29553337, -0.25134036,  0.55235877],\n",
       "       [-1.16422237, -0.48404243, -1.71918898,  0.20071936],\n",
       "       [-1.14205833,  1.28829734, -0.07502706, -2.32472495],\n",
       "       [-1.12007157, -0.50245749, -1.7342107 , -1.20981332],\n",
       "       [-1.09825578,  1.52114819, -1.3853128 , -1.10471076],\n",
       "       [-1.07660508,  1.3004967 ,  1.2675887 , -1.47330873],\n",
       "       [-1.05511391, -0.76905257,  1.53874417,  0.80833914],\n",
       "       [-1.03377706, -1.21245403,  0.34455612,  0.4155984 ],\n",
       "       [-1.0125896 ,  0.92816503,  0.95701091,  0.28742321],\n",
       "       [-0.99154687,  0.67493776,  0.07409584,  0.27034854],\n",
       "       [-0.97064448,  0.41309098,  0.72671408,  0.55615392],\n",
       "       [-0.94987826,  1.54769995,  0.40367061, -1.95904851],\n",
       "       [-0.92924425,  0.71920943, -0.95499286,  0.03545918],\n",
       "       [-0.90873871, -1.50359538,  0.28462118,  0.72469411],\n",
       "       [-0.88835806,  0.39319467,  0.08679116,  0.26605961],\n",
       "       [-0.86809891, -0.57689562, -0.82396106,  0.43960934],\n",
       "       [-0.84795803,  1.04373768,  1.15250515, -0.3817378 ],\n",
       "       [-0.82793233,  0.92033882, -0.36458821,  0.94852755],\n",
       "       [-0.80801888, -0.87294338, -0.67550361,  0.48300508],\n",
       "       [-0.78821485,  0.64764492, -1.50354208,  0.3953996 ],\n",
       "       [-0.76851757, -0.44500506, -0.84958728, -1.65883577],\n",
       "       [-0.74892445,  0.81395585,  1.16260524,  0.59004665],\n",
       "       [-0.72943303,  0.47140703,  1.38529598,  1.22055211],\n",
       "       [-0.71004095,  1.2610261 ,  0.46779569, -0.54176985],\n",
       "       [-0.69074595,  0.63852563,  1.53874417,  1.25857888],\n",
       "       [-0.67154584, -1.85624738,  0.42709558,  0.65646046],\n",
       "       [-0.65243853, -0.02802214, -0.12834141, -0.49726342],\n",
       "       [-0.63342202,  0.75824197,  1.54820925,  0.51793191],\n",
       "       [-0.61449437,  0.75724354,  0.50813245, -1.03293213],\n",
       "       [-0.59565372, -1.05927427, -1.64727037, -0.21815975],\n",
       "       [-0.57689827,  1.24783212,  1.21283741,  1.10022212],\n",
       "       [-0.55822629,  1.03794746, -0.38627294,  0.07797929],\n",
       "       [-0.53963613, -0.41714955,  0.51386586, -1.11394312],\n",
       "       [-0.52112616, -0.08546826,  1.21783637,  0.15154706],\n",
       "       [-0.50269484, -0.84467375, -0.87549189, -2.1571572 ],\n",
       "       [-0.48434067, -1.39531449,  0.21769395, -1.88378271],\n",
       "       [-0.46606219,  0.0066178 , -0.45966823, -0.95619942],\n",
       "       [-0.447858  ,  1.01958629,  0.39191142, -0.8911416 ],\n",
       "       [-0.42972675,  0.81792069,  1.2725405 ,  0.07329661],\n",
       "       [-0.41166713,  0.64055308,  0.5708121 ,  0.55615392],\n",
       "       [-0.39367785, -0.3321763 , -0.4745618 ,  0.27462933],\n",
       "       [-0.37575769, -1.47420382,  0.70474737, -0.33518557],\n",
       "       [-0.35790545, -0.10474749, -1.21318999,  0.25745713],\n",
       "       [-0.34011998,  0.7841573 ,  0.21769395, -0.73224866],\n",
       "       [-0.32240015, -1.65352738,  1.26263268,  2.01064695],\n",
       "       [-0.30474487, -1.46224158, -1.70439494, -0.25638211],\n",
       "       [-0.28715309, -0.20680098,  0.45039797, -0.65484297],\n",
       "       [-0.26962378, -1.90271957,  0.53102334, -1.02420602],\n",
       "       [-0.25215593, -0.25915513, -1.01885558, -0.1283175 ],\n",
       "       [-0.23474858, -0.74679627,  0.34455612, -0.17008941],\n",
       "       [-0.21740078,  1.04277291, -1.3853128 ,  0.48691113],\n",
       "       [-0.20011162, -0.76118235, -0.05523482,  0.30858709],\n",
       "       [-0.1828802 , -0.85272745,  1.30216339,  0.43562451],\n",
       "       [-0.16570565,  0.78515237,  1.22782124,  0.36271243],\n",
       "       [-0.14858714,  0.58051341, -0.1824681 ,  1.41963599],\n",
       "       [-0.13152383, -0.74810183,  0.39191142, -0.53534269],\n",
       "       [-0.11451492, -0.32151022,  1.10682827,  1.35009138],\n",
       "       [-0.09755963, -0.59445094,  0.27253204,  1.62418784],\n",
       "       [-0.0806572 , -0.3321763 ,  1.46250027,  0.99685054],\n",
       "       [-0.06380689, -0.04935604, -1.29701657, -1.03293213],\n",
       "       [-0.04700796, -1.44360046, -1.71918898,  0.32955606],\n",
       "       [-0.03025972,  0.8268345 ,  0.7321905 ,  1.22937273],\n",
       "       [-0.01356148,  1.14922339,  0.89377076,  1.59579653],\n",
       "       [ 0.00308744, -0.36073275, -0.49704225, -0.89912378],\n",
       "       [ 0.0196877 ,  0.26831445,  0.62707446,  1.04432344],\n",
       "       [ 0.03623994,  0.62533398, -1.4550585 , -1.3679351 ],\n",
       "       [ 0.05274478,  0.49522053, -0.00946213, -0.18598289],\n",
       "       [ 0.06920283,  1.51197614,  1.19279775,  0.99045745],\n",
       "       [ 0.08561471, -0.03924063,  1.16260524,  0.8151881 ],\n",
       "       [ 0.10198098,  0.87322688, -1.36277082,  0.94527481],\n",
       "       [ 0.11830223,  1.57327016,  0.88315609,  2.2628248 ],\n",
       "       [ 0.134579  ,  1.42441703, -0.80702634, -0.21815975],\n",
       "       [ 0.15081186,  0.52616407, -0.26528466, -0.41743473],\n",
       "       [ 0.16700133,  1.02732204,  0.77578583, -1.4371576 ],\n",
       "       [ 0.18314793, -0.00900053,  1.39500055,  1.22937273],\n",
       "       [ 0.19925219, -1.50533991, -0.73221674,  0.18741746],\n",
       "       [ 0.2153146 , -0.56814506, -1.91962741, -0.12315678],\n",
       "       [ 0.23133565, -1.72906885, -1.90076688, -0.00306944],\n",
       "       [ 0.24731582,  1.19202117,  0.35644335, -1.41364623],\n",
       "       [ 0.26325559,  0.90662534, -0.97304835,  1.15501188],\n",
       "       [ 0.27915542,  1.06108536,  0.97270342, -0.12315678],\n",
       "       [ 0.29501575,  0.39948386, -0.39353456, -1.84832983],\n",
       "       [ 0.31083704,  0.74625251, -0.0355487 , -0.91521378],\n",
       "       [ 0.32661971, -0.72337219,  1.41436293,  0.39133878],\n",
       "       [ 0.3423642 , -0.76380392,  0.81362329,  1.03804144],\n",
       "       [ 0.35807091,  0.00550359, -0.4745618 , -0.00306944],\n",
       "       [ 0.37374026, -0.74679627, -1.82997283, -0.6140794 ],\n",
       "       [ 0.38937266, -0.1469415 ,  0.91493549,  1.76974284],\n",
       "       [ 0.40496849, -1.60617806, -0.35021379, -0.17008941],\n",
       "       [ 0.42052814,  0.02885793,  0.35050382,  0.82542768],\n",
       "       [ 0.436052  , -1.61739376,  0.0357579 ,  0.96473213],\n",
       "       [ 0.45154043,  0.88896054, -1.59299019, -0.56119394],\n",
       "       [ 0.46699379, -0.17678774,  0.79203663, -0.78347482],\n",
       "       [ 0.48241246,  0.94281959,  0.66606674,  1.64467302],\n",
       "       [ 0.49779678, -0.60829585, -0.66750027,  0.01146189],\n",
       "       [ 0.51314709, -1.84451116,  1.01950683,  0.9711866 ],\n",
       "       [ 0.52846374, -0.69751107, -1.9798635 , -1.04171092],\n",
       "       [ 0.54374706,  0.85253082,  1.51977089, -1.71817136],\n",
       "       [ 0.55899738, -0.9730961 , -0.65156482,  0.71759813],\n",
       "       [ 0.57421502, -2.04026249,  1.05563142, -1.08642518],\n",
       "       [ 0.5894003 ,  1.2845405 , -1.52845902,  0.71404265],\n",
       "       [ 0.60455352, -1.83065941,  0.37421339, -1.90202575],\n",
       "       [ 0.61967501,  0.84759549,  0.7321905 ,  0.78768252],\n",
       "       [ 0.63476505, -1.30833884,  1.0039509 ,  1.41688552],\n",
       "       [ 0.64982394, -1.1347862 ,  1.42402092, -1.10471076],\n",
       "       [ 0.66485197, -1.49489926,  1.02468221, -1.03293213],\n",
       "       [ 0.67984943,  1.36405418,  0.47358005,  1.2498484 ],\n",
       "       [ 0.69481661, -1.2139708 ,  0.2966758 , -0.26744284],\n",
       "       [ 0.70975377,  0.49522053,  1.2725405 , -1.97889407],\n",
       "       [ 0.72466119, -0.78616198, -0.27928757, -0.74672069],\n",
       "       [ 0.73953914,  0.58562018,  0.83511859,  1.68019945],\n",
       "       [ 0.75438788,  0.85450412,  0.71574298,  0.52562487],\n",
       "       [ 0.76920768, -0.39426242, -1.21318999,  0.38727085],\n",
       "       [ 0.78399878, -0.49631074, -0.43746469,  0.56372647],\n",
       "       [ 0.79876144,  0.01774834, -1.66126392, -1.05942991],\n",
       "       [ 0.8134959 ,  1.0456669 , -1.05622936, -1.08642518],\n",
       "       [ 0.82820241,  1.07551559,  1.51977089,  0.75987942],\n",
       "       [ 0.84288122, -1.29103896,  1.09151903, -0.82108927],\n",
       "       [ 0.85753255, -1.18830853,  0.29065278, -0.26190454],\n",
       "       [ 0.87215664,  1.42904484, -0.50457379,  0.49081078],\n",
       "       [ 0.88675372, -0.20101603, -0.95499286,  0.90922967],\n",
       "       [ 0.90132401,  0.62533398,  0.13716541, -0.65484297],\n",
       "       [ 0.91586774,  0.35322947,  1.0607726 ,  0.51793191],\n",
       "       [ 0.93038512,  0.52513474, -0.00296885, -1.01553176],\n",
       "       [ 0.94487638, -1.93665721, -0.68353104, -1.39057916],\n",
       "       [ 0.95934173, -0.52465633,  1.25270792,  0.96796131],\n",
       "       [ 0.97378137,  0.12246872, -1.74947332, -0.06724139],\n",
       "       [ 0.98819551, -1.75822712,  0.91493549,  0.79113681],\n",
       "       [ 1.00258436, -0.07867963, -0.1824681 ,  0.3953996 ],\n",
       "       [ 1.01694811,  0.36587519, -0.20298441,  0.23144984],\n",
       "       [ 1.03128697, -0.62724967,  0.85652391,  0.92895126],\n",
       "       [ 1.04560114,  0.53130856, -0.20298441, -0.00306944],\n",
       "       [ 1.05989079,  0.27045056,  0.90965233, -1.20981332],\n",
       "       [ 1.07415613, -0.24514238, -0.44484785, -1.42534498],\n",
       "       [ 1.08839735,  0.99148599, -1.46701964,  1.90420913],\n",
       "       [ 1.10261461, -1.63438885,  0.95176976, -0.20737541],\n",
       "       [ 1.11680812,  0.71820605, -1.26510158, -0.32944703],\n",
       "       [ 1.13097805,  0.80403524,  0.15589202,  1.18797267],\n",
       "       [ 1.14512457,  1.46230082, -0.76519122, -1.31304986],\n",
       "       [ 1.15924786, -1.10987617, -0.68353104, -0.38763953],\n",
       "       [ 1.1733481 ,  0.28112073, -0.01596668,  0.86598739],\n",
       "       [ 1.18742546, -1.60245911, -0.06841773, -0.47232241],\n",
       "       [ 1.20148009,  0.32257166, -1.07517365, -0.75400514],\n",
       "       [ 1.21551218,  0.87322688, -1.46701964, -0.73224866],\n",
       "       [ 1.22952188,  1.39381826,  1.51501853,  0.67098058],\n",
       "       [ 1.24350935,  1.12535894,  0.54811736, -0.27856754],\n",
       "       [ 1.25747476,  0.34161695, -1.00961537,  0.41961731],\n",
       "       [ 1.27141827,  1.39196069, -1.60632069, -0.09754949],\n",
       "       [ 1.28534002,  0.29283811, -0.81547901, -0.43554699],\n",
       "       [ 1.29924018,  0.19634785, -1.56676988, -1.12323656],\n",
       "       [ 1.31311888,  0.83474968, -1.2441519 ,  0.08265171],\n",
       "       [ 1.3269763 , -1.02082882, -1.21318999,  0.18741746],\n",
       "       [ 1.34081256,  1.49268741,  1.22782124,  1.58280405],\n",
       "       [ 1.35462783,  1.17682728,  0.00998415,  0.20071936],\n",
       "       [ 1.36842224,  0.70012304,  1.33163754, -0.31802204],\n",
       "       [ 1.38219593,  0.0088456 , -1.63345378,  0.04498207],\n",
       "       [ 1.39594906,  0.55902662,  0.46200391, -0.39949982],\n",
       "       [ 1.40968175,  1.47796614, -0.50457379, -1.64450612],\n",
       "       [ 1.42339414, -1.61927178, -0.64363221, -0.11287487],\n",
       "       [ 1.43708637, -1.267656  ,  1.13225036, -1.37920552],\n",
       "       [ 1.45075858, -0.75856261, -0.74865064, -1.35676548],\n",
       "       [ 1.4644109 , -1.6477566 , -1.3853128 ,  0.27034854],\n",
       "       [ 1.47804345,  0.30559723,  1.1777216 , -1.65883577],\n",
       "       [ 1.49165638,  0.12137572,  0.84583242, -1.35676548],\n",
       "       [ 1.5052498 , -1.28790757, -1.43143631, -0.68257581],\n",
       "       [ 1.51882384, -0.52094879, -1.29701657, -1.14201102],\n",
       "       [ 1.53237863,  0.41309098, -0.87549189, -1.31304986],\n",
       "       [ 1.5459143 ,  1.45584317,  1.1777216 ,  1.43335009],\n",
       "       [ 1.55943096,  0.96816082, -0.93708342, -1.08642518]])"
      ]
     },
     "execution_count": 131,
     "metadata": {},
     "output_type": "execute_result"
    }
   ],
   "source": [
    "from sklearn.preprocessing import power_transform\n",
    "DF=power_transform(X,method='yeo-johnson')\n",
    "DF"
   ]
  },
  {
   "cell_type": "code",
   "execution_count": 132,
   "metadata": {},
   "outputs": [
    {
     "data": {
      "text/plain": [
       "array([[-2.07937596,  0.94867429,  0.96224689,  1.51433531],\n",
       "       [-2.03292263, -1.19131426,  1.0401788 ,  0.78768252],\n",
       "       [-1.990711  , -1.6477566 ,  1.37070964,  1.51699753],\n",
       "       [-1.95139683,  0.14102023,  1.14238689,  1.21465643],\n",
       "       [-1.91424742,  0.45271493, -0.74865064,  1.21170398],\n",
       "       [-1.87880665, -1.82382233,  1.51501853,  1.66502354],\n",
       "       [-1.8447658 , -1.00249116,  0.69372704, -0.1077535 ],\n",
       "       [-1.81190337, -0.210275  , -0.10158544, -0.84409341],\n",
       "       [-1.7800535 , -1.82609501, -1.63345378, -2.13259669],\n",
       "       [-1.74908785,  0.64764492, -1.56676988, -0.22900395],\n",
       "       [-1.71890445, -0.88377378, -1.20298758, -0.07226156],\n",
       "       [-1.68942058,  0.79708355,  0.18072579, -1.60261898],\n",
       "       [-1.66056789, -1.52641627,  0.81900563,  1.42512925],\n",
       "       [-1.63228912, -0.48036844, -1.02813642, -1.22982506],\n",
       "       [-1.60453563,  0.69106577,  0.6992403 ,  0.81860579],\n",
       "       [-1.57726567,  0.60295713,  1.45770359,  1.04432344],\n",
       "       [-1.55044308, -0.86079972,  0.89906999,  2.52943514],\n",
       "       [-1.52403621,  1.4355201 ,  1.05563142,  1.13383286],\n",
       "       [-1.49801724, -0.84199328, -0.04209908, -0.39356015],\n",
       "       [-1.47236146,  0.09508551,  0.17453165, -0.34671544],\n",
       "       [-1.44704684,  0.8337607 ,  0.40367061,  1.05996548],\n",
       "       [-1.42205365,  1.01958629, -1.27567304, -0.1077535 ],\n",
       "       [-1.39736406, -1.72701642, -0.35739289,  0.93875739],\n",
       "       [-1.37296197,  0.93109798, -0.28631129,  0.02589311],\n",
       "       [-1.34883272, -0.93569772, -0.60431061, -0.39356015],\n",
       "       [-1.32496292,  1.26290943, -1.4550585 , -0.3237259 ],\n",
       "       [-1.30134033,  0.04659013,  0.49664406, -0.76867281],\n",
       "       [-1.27795368,  1.0456669 , -0.30040383, -0.1386789 ],\n",
       "       [-1.25479261,  1.12918152,  0.3682981 , -0.1386789 ],\n",
       "       [-1.23184753, -0.82328646, -0.35021379,  0.63452018],\n",
       "       [-1.20910953,  1.54129731,  0.43876195,  0.72114861],\n",
       "       [-1.18657038, -0.29553337, -0.25134036,  0.55235877],\n",
       "       [-1.16422237, -0.48404243, -1.71918898,  0.20071936],\n",
       "       [-1.14205833,  1.28829734, -0.07502706, -2.32472495],\n",
       "       [-1.12007157, -0.50245749, -1.7342107 , -1.20981332],\n",
       "       [-1.09825578,  1.52114819, -1.3853128 , -1.10471076],\n",
       "       [-1.07660508,  1.3004967 ,  1.2675887 , -1.47330873],\n",
       "       [-1.05511391, -0.76905257,  1.53874417,  0.80833914],\n",
       "       [-1.03377706, -1.21245403,  0.34455612,  0.4155984 ],\n",
       "       [-1.0125896 ,  0.92816503,  0.95701091,  0.28742321],\n",
       "       [-0.99154687,  0.67493776,  0.07409584,  0.27034854],\n",
       "       [-0.97064448,  0.41309098,  0.72671408,  0.55615392],\n",
       "       [-0.94987826,  1.54769995,  0.40367061, -1.95904851],\n",
       "       [-0.92924425,  0.71920943, -0.95499286,  0.03545918],\n",
       "       [-0.90873871, -1.50359538,  0.28462118,  0.72469411],\n",
       "       [-0.88835806,  0.39319467,  0.08679116,  0.26605961],\n",
       "       [-0.86809891, -0.57689562, -0.82396106,  0.43960934],\n",
       "       [-0.84795803,  1.04373768,  1.15250515, -0.3817378 ],\n",
       "       [-0.82793233,  0.92033882, -0.36458821,  0.94852755],\n",
       "       [-0.80801888, -0.87294338, -0.67550361,  0.48300508],\n",
       "       [-0.78821485,  0.64764492, -1.50354208,  0.3953996 ],\n",
       "       [-0.76851757, -0.44500506, -0.84958728, -1.65883577],\n",
       "       [-0.74892445,  0.81395585,  1.16260524,  0.59004665],\n",
       "       [-0.72943303,  0.47140703,  1.38529598,  1.22055211],\n",
       "       [-0.71004095,  1.2610261 ,  0.46779569, -0.54176985],\n",
       "       [-0.69074595,  0.63852563,  1.53874417,  1.25857888],\n",
       "       [-0.67154584, -1.85624738,  0.42709558,  0.65646046],\n",
       "       [-0.65243853, -0.02802214, -0.12834141, -0.49726342],\n",
       "       [-0.63342202,  0.75824197,  1.54820925,  0.51793191],\n",
       "       [-0.61449437,  0.75724354,  0.50813245, -1.03293213],\n",
       "       [-0.59565372, -1.05927427, -1.64727037, -0.21815975],\n",
       "       [-0.57689827,  1.24783212,  1.21283741,  1.10022212],\n",
       "       [-0.55822629,  1.03794746, -0.38627294,  0.07797929],\n",
       "       [-0.53963613, -0.41714955,  0.51386586, -1.11394312],\n",
       "       [-0.52112616, -0.08546826,  1.21783637,  0.15154706],\n",
       "       [-0.50269484, -0.84467375, -0.87549189, -2.1571572 ],\n",
       "       [-0.48434067, -1.39531449,  0.21769395, -1.88378271],\n",
       "       [-0.46606219,  0.0066178 , -0.45966823, -0.95619942],\n",
       "       [-0.447858  ,  1.01958629,  0.39191142, -0.8911416 ],\n",
       "       [-0.42972675,  0.81792069,  1.2725405 ,  0.07329661],\n",
       "       [-0.41166713,  0.64055308,  0.5708121 ,  0.55615392],\n",
       "       [-0.39367785, -0.3321763 , -0.4745618 ,  0.27462933],\n",
       "       [-0.37575769, -1.47420382,  0.70474737, -0.33518557],\n",
       "       [-0.35790545, -0.10474749, -1.21318999,  0.25745713],\n",
       "       [-0.34011998,  0.7841573 ,  0.21769395, -0.73224866],\n",
       "       [-0.32240015, -1.65352738,  1.26263268,  2.01064695],\n",
       "       [-0.30474487, -1.46224158, -1.70439494, -0.25638211],\n",
       "       [-0.28715309, -0.20680098,  0.45039797, -0.65484297],\n",
       "       [-0.26962378, -1.90271957,  0.53102334, -1.02420602],\n",
       "       [-0.25215593, -0.25915513, -1.01885558, -0.1283175 ],\n",
       "       [-0.23474858, -0.74679627,  0.34455612, -0.17008941],\n",
       "       [-0.21740078,  1.04277291, -1.3853128 ,  0.48691113],\n",
       "       [-0.20011162, -0.76118235, -0.05523482,  0.30858709],\n",
       "       [-0.1828802 , -0.85272745,  1.30216339,  0.43562451],\n",
       "       [-0.16570565,  0.78515237,  1.22782124,  0.36271243],\n",
       "       [-0.14858714,  0.58051341, -0.1824681 ,  1.41963599],\n",
       "       [-0.13152383, -0.74810183,  0.39191142, -0.53534269],\n",
       "       [-0.11451492, -0.32151022,  1.10682827,  1.35009138],\n",
       "       [-0.09755963, -0.59445094,  0.27253204,  1.62418784],\n",
       "       [-0.0806572 , -0.3321763 ,  1.46250027,  0.99685054],\n",
       "       [-0.06380689, -0.04935604, -1.29701657, -1.03293213],\n",
       "       [-0.04700796, -1.44360046, -1.71918898,  0.32955606],\n",
       "       [-0.03025972,  0.8268345 ,  0.7321905 ,  1.22937273],\n",
       "       [-0.01356148,  1.14922339,  0.89377076,  1.59579653],\n",
       "       [ 0.00308744, -0.36073275, -0.49704225, -0.89912378],\n",
       "       [ 0.0196877 ,  0.26831445,  0.62707446,  1.04432344],\n",
       "       [ 0.03623994,  0.62533398, -1.4550585 , -1.3679351 ],\n",
       "       [ 0.05274478,  0.49522053, -0.00946213, -0.18598289],\n",
       "       [ 0.06920283,  1.51197614,  1.19279775,  0.99045745],\n",
       "       [ 0.08561471, -0.03924063,  1.16260524,  0.8151881 ],\n",
       "       [ 0.10198098,  0.87322688, -1.36277082,  0.94527481],\n",
       "       [ 0.11830223,  1.57327016,  0.88315609,  2.2628248 ],\n",
       "       [ 0.134579  ,  1.42441703, -0.80702634, -0.21815975],\n",
       "       [ 0.15081186,  0.52616407, -0.26528466, -0.41743473],\n",
       "       [ 0.16700133,  1.02732204,  0.77578583, -1.4371576 ],\n",
       "       [ 0.18314793, -0.00900053,  1.39500055,  1.22937273],\n",
       "       [ 0.19925219, -1.50533991, -0.73221674,  0.18741746],\n",
       "       [ 0.2153146 , -0.56814506, -1.91962741, -0.12315678],\n",
       "       [ 0.23133565, -1.72906885, -1.90076688, -0.00306944],\n",
       "       [ 0.24731582,  1.19202117,  0.35644335, -1.41364623],\n",
       "       [ 0.26325559,  0.90662534, -0.97304835,  1.15501188],\n",
       "       [ 0.27915542,  1.06108536,  0.97270342, -0.12315678],\n",
       "       [ 0.29501575,  0.39948386, -0.39353456, -1.84832983],\n",
       "       [ 0.31083704,  0.74625251, -0.0355487 , -0.91521378],\n",
       "       [ 0.32661971, -0.72337219,  1.41436293,  0.39133878],\n",
       "       [ 0.3423642 , -0.76380392,  0.81362329,  1.03804144],\n",
       "       [ 0.35807091,  0.00550359, -0.4745618 , -0.00306944],\n",
       "       [ 0.37374026, -0.74679627, -1.82997283, -0.6140794 ],\n",
       "       [ 0.38937266, -0.1469415 ,  0.91493549,  1.76974284],\n",
       "       [ 0.40496849, -1.60617806, -0.35021379, -0.17008941],\n",
       "       [ 0.42052814,  0.02885793,  0.35050382,  0.82542768],\n",
       "       [ 0.436052  , -1.61739376,  0.0357579 ,  0.96473213],\n",
       "       [ 0.45154043,  0.88896054, -1.59299019, -0.56119394],\n",
       "       [ 0.46699379, -0.17678774,  0.79203663, -0.78347482],\n",
       "       [ 0.48241246,  0.94281959,  0.66606674,  1.64467302],\n",
       "       [ 0.49779678, -0.60829585, -0.66750027,  0.01146189],\n",
       "       [ 0.51314709, -1.84451116,  1.01950683,  0.9711866 ],\n",
       "       [ 0.52846374, -0.69751107, -1.9798635 , -1.04171092],\n",
       "       [ 0.54374706,  0.85253082,  1.51977089, -1.71817136],\n",
       "       [ 0.55899738, -0.9730961 , -0.65156482,  0.71759813],\n",
       "       [ 0.57421502, -2.04026249,  1.05563142, -1.08642518],\n",
       "       [ 0.5894003 ,  1.2845405 , -1.52845902,  0.71404265],\n",
       "       [ 0.60455352, -1.83065941,  0.37421339, -1.90202575],\n",
       "       [ 0.61967501,  0.84759549,  0.7321905 ,  0.78768252],\n",
       "       [ 0.63476505, -1.30833884,  1.0039509 ,  1.41688552],\n",
       "       [ 0.64982394, -1.1347862 ,  1.42402092, -1.10471076],\n",
       "       [ 0.66485197, -1.49489926,  1.02468221, -1.03293213],\n",
       "       [ 0.67984943,  1.36405418,  0.47358005,  1.2498484 ],\n",
       "       [ 0.69481661, -1.2139708 ,  0.2966758 , -0.26744284],\n",
       "       [ 0.70975377,  0.49522053,  1.2725405 , -1.97889407],\n",
       "       [ 0.72466119, -0.78616198, -0.27928757, -0.74672069],\n",
       "       [ 0.73953914,  0.58562018,  0.83511859,  1.68019945],\n",
       "       [ 0.75438788,  0.85450412,  0.71574298,  0.52562487],\n",
       "       [ 0.76920768, -0.39426242, -1.21318999,  0.38727085],\n",
       "       [ 0.78399878, -0.49631074, -0.43746469,  0.56372647],\n",
       "       [ 0.79876144,  0.01774834, -1.66126392, -1.05942991],\n",
       "       [ 0.8134959 ,  1.0456669 , -1.05622936, -1.08642518],\n",
       "       [ 0.82820241,  1.07551559,  1.51977089,  0.75987942],\n",
       "       [ 0.84288122, -1.29103896,  1.09151903, -0.82108927],\n",
       "       [ 0.85753255, -1.18830853,  0.29065278, -0.26190454],\n",
       "       [ 0.87215664,  1.42904484, -0.50457379,  0.49081078],\n",
       "       [ 0.88675372, -0.20101603, -0.95499286,  0.90922967],\n",
       "       [ 0.90132401,  0.62533398,  0.13716541, -0.65484297],\n",
       "       [ 0.91586774,  0.35322947,  1.0607726 ,  0.51793191],\n",
       "       [ 0.93038512,  0.52513474, -0.00296885, -1.01553176],\n",
       "       [ 0.94487638, -1.93665721, -0.68353104, -1.39057916],\n",
       "       [ 0.95934173, -0.52465633,  1.25270792,  0.96796131],\n",
       "       [ 0.97378137,  0.12246872, -1.74947332, -0.06724139],\n",
       "       [ 0.98819551, -1.75822712,  0.91493549,  0.79113681],\n",
       "       [ 1.00258436, -0.07867963, -0.1824681 ,  0.3953996 ],\n",
       "       [ 1.01694811,  0.36587519, -0.20298441,  0.23144984],\n",
       "       [ 1.03128697, -0.62724967,  0.85652391,  0.92895126],\n",
       "       [ 1.04560114,  0.53130856, -0.20298441, -0.00306944],\n",
       "       [ 1.05989079,  0.27045056,  0.90965233, -1.20981332],\n",
       "       [ 1.07415613, -0.24514238, -0.44484785, -1.42534498],\n",
       "       [ 1.08839735,  0.99148599, -1.46701964,  1.90420913],\n",
       "       [ 1.10261461, -1.63438885,  0.95176976, -0.20737541],\n",
       "       [ 1.11680812,  0.71820605, -1.26510158, -0.32944703],\n",
       "       [ 1.13097805,  0.80403524,  0.15589202,  1.18797267],\n",
       "       [ 1.14512457,  1.46230082, -0.76519122, -1.31304986],\n",
       "       [ 1.15924786, -1.10987617, -0.68353104, -0.38763953],\n",
       "       [ 1.1733481 ,  0.28112073, -0.01596668,  0.86598739],\n",
       "       [ 1.18742546, -1.60245911, -0.06841773, -0.47232241],\n",
       "       [ 1.20148009,  0.32257166, -1.07517365, -0.75400514],\n",
       "       [ 1.21551218,  0.87322688, -1.46701964, -0.73224866],\n",
       "       [ 1.22952188,  1.39381826,  1.51501853,  0.67098058],\n",
       "       [ 1.24350935,  1.12535894,  0.54811736, -0.27856754],\n",
       "       [ 1.25747476,  0.34161695, -1.00961537,  0.41961731],\n",
       "       [ 1.27141827,  1.39196069, -1.60632069, -0.09754949],\n",
       "       [ 1.28534002,  0.29283811, -0.81547901, -0.43554699],\n",
       "       [ 1.29924018,  0.19634785, -1.56676988, -1.12323656],\n",
       "       [ 1.31311888,  0.83474968, -1.2441519 ,  0.08265171],\n",
       "       [ 1.3269763 , -1.02082882, -1.21318999,  0.18741746],\n",
       "       [ 1.34081256,  1.49268741,  1.22782124,  1.58280405],\n",
       "       [ 1.35462783,  1.17682728,  0.00998415,  0.20071936],\n",
       "       [ 1.36842224,  0.70012304,  1.33163754, -0.31802204],\n",
       "       [ 1.38219593,  0.0088456 , -1.63345378,  0.04498207],\n",
       "       [ 1.39594906,  0.55902662,  0.46200391, -0.39949982],\n",
       "       [ 1.40968175,  1.47796614, -0.50457379, -1.64450612],\n",
       "       [ 1.42339414, -1.61927178, -0.64363221, -0.11287487],\n",
       "       [ 1.43708637, -1.267656  ,  1.13225036, -1.37920552],\n",
       "       [ 1.45075858, -0.75856261, -0.74865064, -1.35676548],\n",
       "       [ 1.4644109 , -1.6477566 , -1.3853128 ,  0.27034854],\n",
       "       [ 1.47804345,  0.30559723,  1.1777216 , -1.65883577],\n",
       "       [ 1.49165638,  0.12137572,  0.84583242, -1.35676548],\n",
       "       [ 1.5052498 , -1.28790757, -1.43143631, -0.68257581],\n",
       "       [ 1.51882384, -0.52094879, -1.29701657, -1.14201102],\n",
       "       [ 1.53237863,  0.41309098, -0.87549189, -1.31304986],\n",
       "       [ 1.5459143 ,  1.45584317,  1.1777216 ,  1.43335009],\n",
       "       [ 1.55943096,  0.96816082, -0.93708342, -1.08642518]])"
      ]
     },
     "execution_count": 132,
     "metadata": {},
     "output_type": "execute_result"
    }
   ],
   "source": [
    "from sklearn.preprocessing import StandardScaler\n",
    "SC=StandardScaler()\n",
    "x=SC.fit_transform(DF)\n",
    "x"
   ]
  },
  {
   "cell_type": "markdown",
   "metadata": {},
   "source": [
    "# Finding the best Random State for Linear Reqression"
   ]
  },
  {
   "cell_type": "code",
   "execution_count": 142,
   "metadata": {},
   "outputs": [
    {
     "name": "stdout",
     "output_type": "stream",
     "text": [
      "Best Accuracy is 93.77908623980129 on Random state 13\n"
     ]
    }
   ],
   "source": [
    "from sklearn.linear_model import LinearRegression\n",
    "from sklearn.metrics import r2_score\n",
    "maxAccu=0\n",
    "maxRS=0\n",
    "for i in range (0,100):\n",
    "    x_train,x_test,Y_train,Y_test = train_test_split(x,Y,test_size=.25,random_state=i)\n",
    "    LR =LinearRegression()\n",
    "    LR.fit(x_train,Y_train)\n",
    "    pred=LR.predict(x_train)\n",
    "    predrf=LR.predict(x_test)\n",
    "    R2 = r2_score(Y_test, predrf)\n",
    "    if R2>maxAccu:\n",
    "        maxAccu=R2\n",
    "        maxRS=i\n",
    "print(\"Best Accuracy is\",maxAccu*100,\"on Random state\",maxRS)"
   ]
  },
  {
   "cell_type": "markdown",
   "metadata": {},
   "source": [
    "We have a best accuracy is 94% and RS is 13. We can use this random state for train_test split."
   ]
  },
  {
   "cell_type": "markdown",
   "metadata": {},
   "source": [
    "# Creating Train-Test Split"
   ]
  },
  {
   "cell_type": "code",
   "execution_count": 141,
   "metadata": {},
   "outputs": [],
   "source": [
    "x_train,x_test,Y_train,Y_test = train_test_split(x,Y,test_size=.25,random_state=13)"
   ]
  },
  {
   "cell_type": "markdown",
   "metadata": {},
   "source": [
    "# Cross-Validation of the Model"
   ]
  },
  {
   "cell_type": "code",
   "execution_count": 160,
   "metadata": {},
   "outputs": [
    {
     "name": "stdout",
     "output_type": "stream",
     "text": [
      "Cross Validation Score of 2 is : 88.70253267919482\n",
      "Cross Validation Score of 3 is : 89.97214482695925\n",
      "Cross Validation Score of 4 is : 89.56922491130904\n",
      "Cross Validation Score of 5 is : 89.53473674194841\n",
      "Cross Validation Score of 6 is : 89.89475213938137\n",
      "Cross Validation Score of 7 is : 89.41723706624096\n",
      "Cross Validation Score of 8 is : 89.1699359391172\n",
      "Cross Validation Score of 9 is : 89.33665603725781\n"
     ]
    }
   ],
   "source": [
    "RX = r2_score(Y_train, pred)\n",
    "RY = r2_score(Y_test, predrf)\n",
    "\n",
    "from sklearn.model_selection import cross_val_score\n",
    "for j in range (2,10):\n",
    "    cv_score=cross_val_score(LR,x,Y,cv=j)\n",
    "    cv_mean=cv_score.mean()\n",
    "    print(f\"Cross Validation Score of {j} is :\",cv_mean*100)"
   ]
  },
  {
   "cell_type": "markdown",
   "metadata": {},
   "source": [
    "Based on the above CV score there is no much impact on CV score. Hence I am choosing the cv=5"
   ]
  },
  {
   "cell_type": "markdown",
   "metadata": {},
   "source": [
    "Here, we have facing the over fitting and underfitting problem by checking the training and testing score"
   ]
  },
  {
   "cell_type": "code",
   "execution_count": 167,
   "metadata": {},
   "outputs": [
    {
     "data": {
      "image/png": "[encoded data removed]",
      "text/plain": [
       "<Figure size 576x432 with 1 Axes>"
      ]
     },
     "metadata": {
      "needs_background": "light"
     },
     "output_type": "display_data"
    }
   ],
   "source": [
    "plt.figure(figsize=(8,6))\n",
    "plt.scatter(x=Y_test,y=predrf,color='r')\n",
    "plt.plot(Y_test,Y_test,color='b')\n",
    "plt.show()"
   ]
  },
  {
   "cell_type": "markdown",
   "metadata": {},
   "source": [
    "Best fit line is touching the most of the dot. So, we can consider best fit of our model."
   ]
  },
  {
   "cell_type": "markdown",
   "metadata": {},
   "source": [
    "# Regularization"
   ]
  },
  {
   "cell_type": "code",
   "execution_count": 168,
   "metadata": {},
   "outputs": [],
   "source": [
    "from sklearn.model_selection import GridSearchCV\n",
    "from sklearn.model_selection import cross_val_score\n",
    "from sklearn.linear_model import Lasso"
   ]
  },
  {
   "cell_type": "code",
   "execution_count": 175,
   "metadata": {},
   "outputs": [
    {
     "name": "stdout",
     "output_type": "stream",
     "text": [
      "{'alpha': 0.1, 'random_state': 0}\n"
     ]
    }
   ],
   "source": [
    "parameters = {'alpha':[.0001, .001, .01, .1, 1, 10],'random_state':list(range(0,10))}\n",
    "LS=Lasso()\n",
    "clf=GridSearchCV(LS,parameters)\n",
    "clf.fit(x_train,Y_train)\n",
    "print(clf.best_params_)"
   ]
  },
  {
   "cell_type": "code",
   "execution_count": 186,
   "metadata": {},
   "outputs": [
    {
     "name": "stdout",
     "output_type": "stream",
     "text": [
      "Lasso Score : 91.57856088638835\n",
      "CV Score : 89.76953137375197\n"
     ]
    }
   ],
   "source": [
    "LS=Lasso(alpha=.1,random_state=0)\n",
    "LS.fit(x_train,Y_train)\n",
    "LS.score(x_train,Y_train)\n",
    "predict=LS.predict(x_test)\n",
    "ls=r2_score(Y_test,predict)\n",
    "print(\"Lasso Score :\",ls*100)\n",
    "\n",
    "cv_score=cross_val_score(LS,x,Y,cv=5)\n",
    "cv_mean=cv_score.mean()\n",
    "print(\"CV Score :\",cv_mean*100)"
   ]
  },
  {
   "cell_type": "markdown",
   "metadata": {},
   "source": [
    "# Ensemble Technique:"
   ]
  },
  {
   "cell_type": "code",
   "execution_count": 180,
   "metadata": {},
   "outputs": [
    {
     "name": "stdout",
     "output_type": "stream",
     "text": [
      "{'criterion': 'mae', 'max_features': 'auto'}\n"
     ]
    }
   ],
   "source": [
    "from sklearn.model_selection import GridSearchCV\n",
    "from sklearn.ensemble import RandomForestRegressor\n",
    "\n",
    "parameters={'criterion':['mse','mae'],'max_features':[\"auto\",\"sqrt\",\"log2\"]}\n",
    "RF=RandomForestRegressor()\n",
    "clf=GridSearchCV(RF,parameters)\n",
    "clf.fit(x_train,Y_train)\n",
    "print(clf.best_params_)"
   ]
  },
  {
   "cell_type": "code",
   "execution_count": 183,
   "metadata": {},
   "outputs": [
    {
     "name": "stdout",
     "output_type": "stream",
     "text": [
      "R2 Score : 91.57856088638835\n",
      "CV Score : 97.11042511130208\n"
     ]
    }
   ],
   "source": [
    "RF=RandomForestRegressor(criterion=\"mae\",max_features=\"auto\")\n",
    "RF.fit(x_train,Y_train)\n",
    "RF.score(x_train,Y_train)\n",
    "pred=LS.predict(x_test)\n",
    "RFS=r2_score(Y_test,pred)\n",
    "print(\"R2 Score :\",RFS*100)\n",
    "\n",
    "rfs=cross_val_score(RF,x,Y,cv=5)\n",
    "rfc=rfs.mean()\n",
    "print(\"CV Score :\",rfc*100)"
   ]
  },
  {
   "cell_type": "markdown",
   "metadata": {},
   "source": [
    "We are getting good accuracy & cross validation score with minimal score."
   ]
  },
  {
   "cell_type": "markdown",
   "metadata": {},
   "source": [
    "# Model Saving"
   ]
  },
  {
   "cell_type": "code",
   "execution_count": 187,
   "metadata": {},
   "outputs": [],
   "source": [
    "import pickle\n",
    "filename='Advertising.pkl'\n",
    "pickle.dump(RF,open(filename,'wb'))"
   ]
  },
  {
   "cell_type": "markdown",
   "metadata": {},
   "source": [
    "# Conclusion"
   ]
  },
  {
   "cell_type": "code",
   "execution_count": 188,
   "metadata": {},
   "outputs": [
    {
     "name": "stdout",
     "output_type": "stream",
     "text": [
      "0.9771933318074678\n"
     ]
    }
   ],
   "source": [
    "Loaded_load = pickle.load(open('Advertising.pkl','rb'))\n",
    "Result=Loaded_load.score(x_test,Y_test)\n",
    "print(Result)"
   ]
  },
  {
   "cell_type": "code",
   "execution_count": 191,
   "metadata": {},
   "outputs": [
    {
     "data": {
      "text/html": [
       "<div>\n",
       "<style scoped>\n",
       "    .dataframe tbody tr th:only-of-type {\n",
       "        vertical-align: middle;\n",
       "    }\n",
       "\n",
       "    .dataframe tbody tr th {\n",
       "        vertical-align: top;\n",
       "    }\n",
       "\n",
       "    .dataframe thead th {\n",
       "        text-align: right;\n",
       "    }\n",
       "</style>\n",
       "<table border=\"1\" class=\"dataframe\">\n",
       "  <thead>\n",
       "    <tr style=\"text-align: right;\">\n",
       "      <th></th>\n",
       "      <th>0</th>\n",
       "      <th>1</th>\n",
       "      <th>2</th>\n",
       "      <th>3</th>\n",
       "      <th>4</th>\n",
       "      <th>5</th>\n",
       "      <th>6</th>\n",
       "      <th>7</th>\n",
       "      <th>8</th>\n",
       "      <th>9</th>\n",
       "      <th>...</th>\n",
       "      <th>40</th>\n",
       "      <th>41</th>\n",
       "      <th>42</th>\n",
       "      <th>43</th>\n",
       "      <th>44</th>\n",
       "      <th>45</th>\n",
       "      <th>46</th>\n",
       "      <th>47</th>\n",
       "      <th>48</th>\n",
       "      <th>49</th>\n",
       "    </tr>\n",
       "  </thead>\n",
       "  <tbody>\n",
       "    <tr>\n",
       "      <th>Predicted</th>\n",
       "      <td>12.287000</td>\n",
       "      <td>9.148000</td>\n",
       "      <td>10.089000</td>\n",
       "      <td>8.225000</td>\n",
       "      <td>7.384000</td>\n",
       "      <td>22.434000</td>\n",
       "      <td>12.231000</td>\n",
       "      <td>24.498000</td>\n",
       "      <td>6.294000</td>\n",
       "      <td>18.352000</td>\n",
       "      <td>...</td>\n",
       "      <td>12.671000</td>\n",
       "      <td>10.49500</td>\n",
       "      <td>15.514000</td>\n",
       "      <td>12.110000</td>\n",
       "      <td>11.714000</td>\n",
       "      <td>12.204000</td>\n",
       "      <td>14.348000</td>\n",
       "      <td>10.855000</td>\n",
       "      <td>23.000000</td>\n",
       "      <td>5.6570</td>\n",
       "    </tr>\n",
       "    <tr>\n",
       "      <th>Original</th>\n",
       "      <td>13.075907</td>\n",
       "      <td>5.849108</td>\n",
       "      <td>8.779295</td>\n",
       "      <td>8.730276</td>\n",
       "      <td>6.779077</td>\n",
       "      <td>20.636771</td>\n",
       "      <td>14.500343</td>\n",
       "      <td>22.058354</td>\n",
       "      <td>9.689992</td>\n",
       "      <td>17.284716</td>\n",
       "      <td>...</td>\n",
       "      <td>13.527148</td>\n",
       "      <td>9.67006</td>\n",
       "      <td>15.843141</td>\n",
       "      <td>11.559538</td>\n",
       "      <td>11.500647</td>\n",
       "      <td>15.194265</td>\n",
       "      <td>14.030325</td>\n",
       "      <td>9.734637</td>\n",
       "      <td>20.927071</td>\n",
       "      <td>2.1404</td>\n",
       "    </tr>\n",
       "  </tbody>\n",
       "</table>\n",
       "<p>2 rows × 50 columns</p>\n",
       "</div>"
      ],
      "text/plain": [
       "                  0         1          2         3         4          5   \\\n",
       "Predicted  12.287000  9.148000  10.089000  8.225000  7.384000  22.434000   \n",
       "Original   13.075907  5.849108   8.779295  8.730276  6.779077  20.636771   \n",
       "\n",
       "                  6          7         8          9   ...         40  \\\n",
       "Predicted  12.231000  24.498000  6.294000  18.352000  ...  12.671000   \n",
       "Original   14.500343  22.058354  9.689992  17.284716  ...  13.527148   \n",
       "\n",
       "                 41         42         43         44         45         46  \\\n",
       "Predicted  10.49500  15.514000  12.110000  11.714000  12.204000  14.348000   \n",
       "Original    9.67006  15.843141  11.559538  11.500647  15.194265  14.030325   \n",
       "\n",
       "                  47         48      49  \n",
       "Predicted  10.855000  23.000000  5.6570  \n",
       "Original    9.734637  20.927071  2.1404  \n",
       "\n",
       "[2 rows x 50 columns]"
      ]
     },
     "execution_count": 191,
     "metadata": {},
     "output_type": "execute_result"
    }
   ],
   "source": [
    "Conclusion=pd.DataFrame([Loaded_load.predict(x_test)[:],pred[:]],index=[\"Predicted\",\"Original\"])\n",
    "Conclusion"
   ]
  },
  {
   "cell_type": "markdown",
   "metadata": {},
   "source": [
    "We have a the outcome for this model"
   ]
  }
 ],
 "metadata": {
  "kernelspec": {
   "display_name": "Python 3",
   "language": "python",
   "name": "python3"
  },
  "language_info": {
   "codemirror_mode": {
    "name": "ipython",
    "version": 3
   },
   "file_extension": ".py",
   "mimetype": "text/x-python",
   "name": "python",
   "nbconvert_exporter": "python",
   "pygments_lexer": "ipython3",
   "version": "3.8.3"
  }
 },
 "nbformat": 4,
 "nbformat_minor": 4
}
